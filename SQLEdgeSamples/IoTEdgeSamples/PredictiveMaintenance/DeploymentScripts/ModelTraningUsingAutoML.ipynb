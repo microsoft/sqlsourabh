{
    "metadata": {
        "kernelspec": {
            "name": "python3",
            "display_name": "Python 3"
        },
        "language_info": {
            "name": "python",
            "version": "3.6.6",
            "mimetype": "text/x-python",
            "codemirror_mode": {
                "name": "ipython",
                "version": 3
            },
            "pygments_lexer": "ipython3",
            "nbconvert_exporter": "python",
            "file_extension": ".py"
        },
        "orig_nbformat": 2
    },
    "nbformat_minor": 2,
    "nbformat": 4,
    "cells": [
        {
            "cell_type": "code",
            "source": [
                "!pip install azureml.core --user\n",
                "!pip install azureml.train.automl --user\n",
                "!pip install azureml-train-automl-runtime --user\n"
            ],
            "metadata": {
                "tags": [],
                "azdata_cell_guid": "4f6b329c-680c-4e9a-9e4c-0167f6b6253f"
            },
            "outputs": [],
            "execution_count": null
        },
        {
            "cell_type": "code",
            "source": [
                "import pandas as pd\n",
                "import pyodbc as od\n",
                "import logging\n",
                "import azureml.core\n",
                "from azureml.core.experiment import Experiment\n",
                "from azureml.core.workspace import Workspace\n",
                "from azureml.train.automl import AutoMLConfig\n",
                "from azureml.train.automl import constants"
            ],
            "metadata": {
                "tags": [],
                "azdata_cell_guid": "88e81d72-56a0-4511-9659-8bb4c6d9a6fc"
            },
            "outputs": [],
            "execution_count": null
        },
        {
            "cell_type": "code",
            "source": [
                "cnxn = od.connect(\"DSN=PredictiveMaintenance;UID=sa;PWD=!Locks123\")\r\n",
                "query = f\"Select * from TrainingData3\"\r\n",
                "\r\n",
                "df = pd.read_sql(query,cnxn)"
            ],
            "metadata": {
                "azdata_cell_guid": "04a11078-d57a-43c4-81ea-388402229d17"
            },
            "outputs": [],
            "execution_count": null
        },
        {
            "cell_type": "code",
            "source": [
                "df['dt_truncated'] = df['dt_truncated'].apply(pd.to_datetime)"
            ],
            "metadata": {
                "azdata_cell_guid": "cbccf69f-ee1d-4f01-ac51-6c093782e129"
            },
            "outputs": [],
            "execution_count": null
        },
        {
            "cell_type": "code",
            "source": [
                "df.columns"
            ],
            "metadata": {
                "azdata_cell_guid": "db56912b-18af-47df-a94b-b268849c9885"
            },
            "outputs": [],
            "execution_count": null
        },
        {
            "cell_type": "code",
            "source": [
                "## Before Running this Cell, please change the Subscription ID, Resource Group and the ML Workspace name to that from your environment. \n",
                "\n",
                "ws = Workspace(subscription_id=\"",\n",
                "               resource_group=\"Sourabh_ASDE\",\n",
                "               workspace_name=\"SourabhMLWS\")\n",
                "# Choose a name for the experiment.\n",
                "experiment_name = 'PredictiveMaintenance_Classification'\n",
                "experiment = Experiment(ws, experiment_name)"
            ],
            "metadata": {
                "tags": [],
                "azdata_cell_guid": "59769a0d-cb28-4dde-af4f-1fc0b740b4f8"
            },
            "outputs": [],
            "execution_count": null
        },
        {
            "cell_type": "code",
            "source": [
                "y_train = df['FailureChance']\n",
                "x_train = df.iloc[:,0:-1]"
            ],
            "metadata": {
                "azdata_cell_guid": "4ef4c05c-67ed-4485-bba4-7d8a7a4fcbca",
                "tags": []
            },
            "outputs": [],
            "execution_count": null
        },
        {
            "cell_type": "code",
            "source": [
                "y_train.describe()"
            ],
            "metadata": {
                "azdata_cell_guid": "467299f1-ffd8-4021-b698-4c9111eac998"
            },
            "outputs": [],
            "execution_count": null
        },
        {
            "cell_type": "code",
            "source": [
                "automl_config = AutoMLConfig(task = 'classification',\n",
                "                             primary_metric = 'AUC_weighted',\n",
                "                             iteration_timeout_minutes = 60,\n",
                "                             iterations = 15,                        \n",
                "                             X = x_train, \n",
                "                             y = y_train,\n",
                "                             featurization = 'auto',\n",
                "                             enable_onnx_compatible_models=True)\n",
                "\n",
                "local_run = experiment.submit(automl_config, show_output = True)\n",
                "best_run, onnx_mdl = local_run.get_output(return_onnx_model=True)"
            ],
            "metadata": {
                "tags": [],
                "azdata_cell_guid": "55ebf7ea-63b6-4dcd-ab8d-15f9c3f8ec99"
            },
            "outputs": [],
            "execution_count": null
        },
        {
            "cell_type": "code",
            "source": [
                "import onnxmltools\n",
                "onnxmltools.utils.save_model(onnx_mdl, './TrainedModel_09032020_3.onnx')"
            ],
            "metadata": {
                "azdata_cell_guid": "dec103d8-ba64-443c-a751-d20ac7a71024"
            },
            "outputs": [],
            "execution_count": null
        },
        {
            "cell_type": "code",
            "source": [
                "## Before Running this Cell, please change the SQL Edge Server, Username and Password to that from your environment. \n",
                "\n",
                "import pyodbc\n",
                "## Insert model into SQL\n",
                "server = '' # SQL Server IP address\n",
                "username = 'sa' # SQL Server username\n",
                "password = '!Locks123' # SQL Server password\n",
                "database = 'PredictiveMaintenance'\n",
                "db_connection_string = \"Driver={ODBC Driver 17 for SQL Server};Server=\" + server + \";Database=\" + database + \";UID=\" + username + \";PWD=\" + password + \";\"\n",
                "conn = pyodbc.connect(db_connection_string, autocommit=True)\n",
                "cursor = conn.cursor()\n",
                "\n",
                "# Insert the ONNX model into the models table\n",
                "query = f\"insert into models ([description], [data]) values ('Predictice Maintenance Trained Model',?)\"\n",
                "model_bits = onnx_mdl.SerializeToString()\n",
                "insert_params  = (pyodbc.Binary(model_bits))\n",
                "cursor.execute(query, insert_params)\n",
                "conn.commit()\n",
                "cursor.close()\n",
                "conn.close()"
            ],
            "metadata": {
                "azdata_cell_guid": "92347e72-81a4-4599-badd-d16804ef4aac"
            },
            "outputs": [],
            "execution_count": null
        }
    ]
}
